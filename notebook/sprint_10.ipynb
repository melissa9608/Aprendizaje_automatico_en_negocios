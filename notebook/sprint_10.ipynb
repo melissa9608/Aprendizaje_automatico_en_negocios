{
 "cells": [
  {
   "cell_type": "markdown",
   "metadata": {},
   "source": [
    "# Sprint 10"
   ]
  },
  {
   "cell_type": "markdown",
   "metadata": {},
   "source": [
    "La compañía de extracción de petróleo OilyGiant desea encontrar los mejores lugares donde abrir 200 pozos nuevos de petróleo en tres regiones diferentes.Se realizarán análisis estadísticos y de modelado predictivo para identificar la región más rentable y evaluar los riesgos asociados."
   ]
  },
  {
   "cell_type": "markdown",
   "metadata": {},
   "source": [
    "## Cargar liberías "
   ]
  },
  {
   "cell_type": "code",
   "execution_count": 1,
   "metadata": {},
   "outputs": [],
   "source": [
    "import pandas as pd\n",
    "import numpy as np\n",
    "from sklearn.tree import DecisionTreeClassifier\n",
    "from sklearn.model_selection import cross_val_score\n",
    "from sklearn.linear_model import LinearRegression\n",
    "from sklearn.model_selection import train_test_split\n",
    "from sklearn.metrics import mean_squared_error\n",
    "import numpy as np"
   ]
  },
  {
   "cell_type": "code",
   "execution_count": 2,
   "metadata": {},
   "outputs": [],
   "source": [
    "# Leer los archivos\n",
    "\n",
    "df_0 = pd.read_csv('/datasets/geo_data_0.csv')\n",
    "df_1 = pd.read_csv('/datasets/geo_data_1.csv')\n",
    "df_2 = pd.read_csv('/datasets/geo_data_2.csv')"
   ]
  },
  {
   "cell_type": "code",
   "execution_count": 3,
   "metadata": {},
   "outputs": [
    {
     "data": {
      "text/html": [
       "<div>\n",
       "<style scoped>\n",
       "    .dataframe tbody tr th:only-of-type {\n",
       "        vertical-align: middle;\n",
       "    }\n",
       "\n",
       "    .dataframe tbody tr th {\n",
       "        vertical-align: top;\n",
       "    }\n",
       "\n",
       "    .dataframe thead th {\n",
       "        text-align: right;\n",
       "    }\n",
       "</style>\n",
       "<table border=\"1\" class=\"dataframe\">\n",
       "  <thead>\n",
       "    <tr style=\"text-align: right;\">\n",
       "      <th></th>\n",
       "      <th>id</th>\n",
       "      <th>f0</th>\n",
       "      <th>f1</th>\n",
       "      <th>f2</th>\n",
       "      <th>product</th>\n",
       "    </tr>\n",
       "  </thead>\n",
       "  <tbody>\n",
       "    <tr>\n",
       "      <th>0</th>\n",
       "      <td>txEyH</td>\n",
       "      <td>0.705745</td>\n",
       "      <td>-0.497823</td>\n",
       "      <td>1.221170</td>\n",
       "      <td>105.280062</td>\n",
       "    </tr>\n",
       "    <tr>\n",
       "      <th>1</th>\n",
       "      <td>2acmU</td>\n",
       "      <td>1.334711</td>\n",
       "      <td>-0.340164</td>\n",
       "      <td>4.365080</td>\n",
       "      <td>73.037750</td>\n",
       "    </tr>\n",
       "    <tr>\n",
       "      <th>2</th>\n",
       "      <td>409Wp</td>\n",
       "      <td>1.022732</td>\n",
       "      <td>0.151990</td>\n",
       "      <td>1.419926</td>\n",
       "      <td>85.265647</td>\n",
       "    </tr>\n",
       "    <tr>\n",
       "      <th>3</th>\n",
       "      <td>iJLyR</td>\n",
       "      <td>-0.032172</td>\n",
       "      <td>0.139033</td>\n",
       "      <td>2.978566</td>\n",
       "      <td>168.620776</td>\n",
       "    </tr>\n",
       "    <tr>\n",
       "      <th>4</th>\n",
       "      <td>Xdl7t</td>\n",
       "      <td>1.988431</td>\n",
       "      <td>0.155413</td>\n",
       "      <td>4.751769</td>\n",
       "      <td>154.036647</td>\n",
       "    </tr>\n",
       "  </tbody>\n",
       "</table>\n",
       "</div>"
      ],
      "text/plain": [
       "      id        f0        f1        f2     product\n",
       "0  txEyH  0.705745 -0.497823  1.221170  105.280062\n",
       "1  2acmU  1.334711 -0.340164  4.365080   73.037750\n",
       "2  409Wp  1.022732  0.151990  1.419926   85.265647\n",
       "3  iJLyR -0.032172  0.139033  2.978566  168.620776\n",
       "4  Xdl7t  1.988431  0.155413  4.751769  154.036647"
      ]
     },
     "metadata": {},
     "output_type": "display_data"
    },
    {
     "data": {
      "text/html": [
       "<div>\n",
       "<style scoped>\n",
       "    .dataframe tbody tr th:only-of-type {\n",
       "        vertical-align: middle;\n",
       "    }\n",
       "\n",
       "    .dataframe tbody tr th {\n",
       "        vertical-align: top;\n",
       "    }\n",
       "\n",
       "    .dataframe thead th {\n",
       "        text-align: right;\n",
       "    }\n",
       "</style>\n",
       "<table border=\"1\" class=\"dataframe\">\n",
       "  <thead>\n",
       "    <tr style=\"text-align: right;\">\n",
       "      <th></th>\n",
       "      <th>id</th>\n",
       "      <th>f0</th>\n",
       "      <th>f1</th>\n",
       "      <th>f2</th>\n",
       "      <th>product</th>\n",
       "    </tr>\n",
       "  </thead>\n",
       "  <tbody>\n",
       "    <tr>\n",
       "      <th>0</th>\n",
       "      <td>kBEdx</td>\n",
       "      <td>-15.001348</td>\n",
       "      <td>-8.276000</td>\n",
       "      <td>-0.005876</td>\n",
       "      <td>3.179103</td>\n",
       "    </tr>\n",
       "    <tr>\n",
       "      <th>1</th>\n",
       "      <td>62mP7</td>\n",
       "      <td>14.272088</td>\n",
       "      <td>-3.475083</td>\n",
       "      <td>0.999183</td>\n",
       "      <td>26.953261</td>\n",
       "    </tr>\n",
       "    <tr>\n",
       "      <th>2</th>\n",
       "      <td>vyE1P</td>\n",
       "      <td>6.263187</td>\n",
       "      <td>-5.948386</td>\n",
       "      <td>5.001160</td>\n",
       "      <td>134.766305</td>\n",
       "    </tr>\n",
       "    <tr>\n",
       "      <th>3</th>\n",
       "      <td>KcrkZ</td>\n",
       "      <td>-13.081196</td>\n",
       "      <td>-11.506057</td>\n",
       "      <td>4.999415</td>\n",
       "      <td>137.945408</td>\n",
       "    </tr>\n",
       "    <tr>\n",
       "      <th>4</th>\n",
       "      <td>AHL4O</td>\n",
       "      <td>12.702195</td>\n",
       "      <td>-8.147433</td>\n",
       "      <td>5.004363</td>\n",
       "      <td>134.766305</td>\n",
       "    </tr>\n",
       "  </tbody>\n",
       "</table>\n",
       "</div>"
      ],
      "text/plain": [
       "      id         f0         f1        f2     product\n",
       "0  kBEdx -15.001348  -8.276000 -0.005876    3.179103\n",
       "1  62mP7  14.272088  -3.475083  0.999183   26.953261\n",
       "2  vyE1P   6.263187  -5.948386  5.001160  134.766305\n",
       "3  KcrkZ -13.081196 -11.506057  4.999415  137.945408\n",
       "4  AHL4O  12.702195  -8.147433  5.004363  134.766305"
      ]
     },
     "metadata": {},
     "output_type": "display_data"
    },
    {
     "data": {
      "text/html": [
       "<div>\n",
       "<style scoped>\n",
       "    .dataframe tbody tr th:only-of-type {\n",
       "        vertical-align: middle;\n",
       "    }\n",
       "\n",
       "    .dataframe tbody tr th {\n",
       "        vertical-align: top;\n",
       "    }\n",
       "\n",
       "    .dataframe thead th {\n",
       "        text-align: right;\n",
       "    }\n",
       "</style>\n",
       "<table border=\"1\" class=\"dataframe\">\n",
       "  <thead>\n",
       "    <tr style=\"text-align: right;\">\n",
       "      <th></th>\n",
       "      <th>id</th>\n",
       "      <th>f0</th>\n",
       "      <th>f1</th>\n",
       "      <th>f2</th>\n",
       "      <th>product</th>\n",
       "    </tr>\n",
       "  </thead>\n",
       "  <tbody>\n",
       "    <tr>\n",
       "      <th>0</th>\n",
       "      <td>fwXo0</td>\n",
       "      <td>-1.146987</td>\n",
       "      <td>0.963328</td>\n",
       "      <td>-0.828965</td>\n",
       "      <td>27.758673</td>\n",
       "    </tr>\n",
       "    <tr>\n",
       "      <th>1</th>\n",
       "      <td>WJtFt</td>\n",
       "      <td>0.262778</td>\n",
       "      <td>0.269839</td>\n",
       "      <td>-2.530187</td>\n",
       "      <td>56.069697</td>\n",
       "    </tr>\n",
       "    <tr>\n",
       "      <th>2</th>\n",
       "      <td>ovLUW</td>\n",
       "      <td>0.194587</td>\n",
       "      <td>0.289035</td>\n",
       "      <td>-5.586433</td>\n",
       "      <td>62.871910</td>\n",
       "    </tr>\n",
       "    <tr>\n",
       "      <th>3</th>\n",
       "      <td>q6cA6</td>\n",
       "      <td>2.236060</td>\n",
       "      <td>-0.553760</td>\n",
       "      <td>0.930038</td>\n",
       "      <td>114.572842</td>\n",
       "    </tr>\n",
       "    <tr>\n",
       "      <th>4</th>\n",
       "      <td>WPMUX</td>\n",
       "      <td>-0.515993</td>\n",
       "      <td>1.716266</td>\n",
       "      <td>5.899011</td>\n",
       "      <td>149.600746</td>\n",
       "    </tr>\n",
       "  </tbody>\n",
       "</table>\n",
       "</div>"
      ],
      "text/plain": [
       "      id        f0        f1        f2     product\n",
       "0  fwXo0 -1.146987  0.963328 -0.828965   27.758673\n",
       "1  WJtFt  0.262778  0.269839 -2.530187   56.069697\n",
       "2  ovLUW  0.194587  0.289035 -5.586433   62.871910\n",
       "3  q6cA6  2.236060 -0.553760  0.930038  114.572842\n",
       "4  WPMUX -0.515993  1.716266  5.899011  149.600746"
      ]
     },
     "metadata": {},
     "output_type": "display_data"
    },
    {
     "name": "stdout",
     "output_type": "stream",
     "text": [
      "<class 'pandas.core.frame.DataFrame'>\n",
      "RangeIndex: 100000 entries, 0 to 99999\n",
      "Data columns (total 5 columns):\n",
      " #   Column   Non-Null Count   Dtype  \n",
      "---  ------   --------------   -----  \n",
      " 0   id       100000 non-null  object \n",
      " 1   f0       100000 non-null  float64\n",
      " 2   f1       100000 non-null  float64\n",
      " 3   f2       100000 non-null  float64\n",
      " 4   product  100000 non-null  float64\n",
      "dtypes: float64(4), object(1)\n",
      "memory usage: 3.8+ MB\n",
      "None\n",
      "\n",
      "<class 'pandas.core.frame.DataFrame'>\n",
      "RangeIndex: 100000 entries, 0 to 99999\n",
      "Data columns (total 5 columns):\n",
      " #   Column   Non-Null Count   Dtype  \n",
      "---  ------   --------------   -----  \n",
      " 0   id       100000 non-null  object \n",
      " 1   f0       100000 non-null  float64\n",
      " 2   f1       100000 non-null  float64\n",
      " 3   f2       100000 non-null  float64\n",
      " 4   product  100000 non-null  float64\n",
      "dtypes: float64(4), object(1)\n",
      "memory usage: 3.8+ MB\n",
      "None\n",
      "\n",
      "<class 'pandas.core.frame.DataFrame'>\n",
      "RangeIndex: 100000 entries, 0 to 99999\n",
      "Data columns (total 5 columns):\n",
      " #   Column   Non-Null Count   Dtype  \n",
      "---  ------   --------------   -----  \n",
      " 0   id       100000 non-null  object \n",
      " 1   f0       100000 non-null  float64\n",
      " 2   f1       100000 non-null  float64\n",
      " 3   f2       100000 non-null  float64\n",
      " 4   product  100000 non-null  float64\n",
      "dtypes: float64(4), object(1)\n",
      "memory usage: 3.8+ MB\n",
      "None\n"
     ]
    }
   ],
   "source": [
    "display(df_0.head())\n",
    "display(df_1.head())\n",
    "display(df_2.head())\n",
    "\n",
    "print(df_0.info())\n",
    "print()\n",
    "print(df_1.info())\n",
    "print()\n",
    "print(df_2.info())"
   ]
  },
  {
   "cell_type": "code",
   "execution_count": 4,
   "metadata": {},
   "outputs": [
    {
     "name": "stdout",
     "output_type": "stream",
     "text": [
      "id         0\n",
      "f0         0\n",
      "f1         0\n",
      "f2         0\n",
      "product    0\n",
      "dtype: int64\n",
      "\n",
      "id         0\n",
      "f0         0\n",
      "f1         0\n",
      "f2         0\n",
      "product    0\n",
      "dtype: int64\n",
      "\n",
      "id         0\n",
      "f0         0\n",
      "f1         0\n",
      "f2         0\n",
      "product    0\n",
      "dtype: int64\n"
     ]
    }
   ],
   "source": [
    "print(df_0.isnull().sum())\n",
    "print()\n",
    "print(df_1.isnull().sum())\n",
    "print()\n",
    "print(df_2.isnull().sum())"
   ]
  },
  {
   "cell_type": "markdown",
   "metadata": {},
   "source": [
    "Ninguno de los DF contiene valores ausentes.\n",
    "\n",
    "El tipo de datos de los DataFrame corresponde a los valores de cada columna"
   ]
  },
  {
   "cell_type": "markdown",
   "metadata": {},
   "source": [
    "## Entrena y prueba el modelo para cada región en geo_data_0.csv"
   ]
  },
  {
   "cell_type": "markdown",
   "metadata": {},
   "source": [
    "### Divide los datos en un conjunto de entrenamiento y un conjunto de validación en una proporción de 75:25.\n"
   ]
  },
  {
   "cell_type": "code",
   "execution_count": 5,
   "metadata": {},
   "outputs": [],
   "source": [
    "# División del conjunto de datos en dos: conjunto de entrenamiento (75%) y conjunto de validación (25%)\n",
    "\n",
    "# Dividir los datos de las regiones\n",
    "\n",
    "train_0, valid_0 = train_test_split(df_0, test_size=0.25, random_state=12345)\n",
    "train_1, valid_1 = train_test_split(df_1, test_size=0.25, random_state=12345)\n",
    "train_2, valid_2 = train_test_split(df_2, test_size=0.25, random_state=12345)"
   ]
  },
  {
   "cell_type": "markdown",
   "metadata": {},
   "source": [
    "### Entrena el modelo y haz predicciones para el conjunto de validación."
   ]
  },
  {
   "cell_type": "code",
   "execution_count": 6,
   "metadata": {},
   "outputs": [],
   "source": [
    "# Entrenamiento del modelo y predicciones\n",
    "\n",
    "def train_value_models(train, valid):\n",
    "    features = ['f0', 'f1', 'f2']\n",
    "    target = 'product'\n",
    "    \n",
    "    model = LinearRegression()\n",
    "    model.fit(train[features], train[target])\n",
    "    \n",
    "    predictions = model.predict(valid[features])\n",
    "    return predictions, valid[target]"
   ]
  },
  {
   "cell_type": "markdown",
   "metadata": {},
   "source": [
    "### Guarda las predicciones y las respuestas correctas para el conjunto de validación.\n",
    "\n"
   ]
  },
  {
   "cell_type": "code",
   "execution_count": 7,
   "metadata": {},
   "outputs": [],
   "source": [
    "# Se almacenan las predicciones y las respuestas reales (las actuales)\n",
    "\n",
    "predictions_0, real_0 = train_value_models(train_0, valid_0)\n",
    "predictions_1, real_1 = train_value_models(train_1, valid_1)\n",
    "predictions_2, real_2 = train_value_models(train_2, valid_2)\n",
    "\n",
    "results_0 = pd.DataFrame({'predictions': predictions_0, 'real': real_0})\n",
    "results_1 = pd.DataFrame({'predictions': predictions_1, 'real': real_1})\n",
    "results_2 = pd.DataFrame({'predictions': predictions_2, 'real': real_2})"
   ]
  },
  {
   "cell_type": "markdown",
   "metadata": {},
   "source": [
    "### Muestra el volumen medio de reservas predicho y RMSE del modelo."
   ]
  },
  {
   "cell_type": "code",
   "execution_count": 8,
   "metadata": {},
   "outputs": [
    {
     "name": "stdout",
     "output_type": "stream",
     "text": [
      "Región 0\n",
      "volumen medio de reservas predicho: 92.59256778438035 unidades\n",
      "RMSE: 37.5794217150813\n",
      "\n",
      "Región 1\n",
      "volumen medio de reservas predicho: 68.728546895446 unidades\n",
      "RMSE: 0.893099286775617\n",
      "\n",
      "Región 2\n",
      "volumen medio de reservas predicho: 94.96504596800489 unidades\n",
      "RMSE: 40.02970873393434\n",
      "\n"
     ]
    }
   ],
   "source": [
    "def calculate_metrics(results):\n",
    "    mean_predictions = results['predictions'].mean()\n",
    "    rmse = mean_squared_error(results['real'], results['predictions']) ** 0.5\n",
    "    return mean_predictions, rmse\n",
    "\n",
    "mean_predictions_0, rmse_0 = calculate_metrics(results_0)\n",
    "mean_predictions_1, rmse_1 = calculate_metrics(results_1)\n",
    "mean_predictions_2, rmse_2 = calculate_metrics(results_2)\n",
    "\n",
    "\n",
    "print('Región 0')\n",
    "print(f'volumen medio de reservas predicho: {mean_predictions_0} unidades')\n",
    "print(f'RMSE: {rmse_0}')\n",
    "print()\n",
    "print('Región 1')\n",
    "print(f'volumen medio de reservas predicho: {mean_predictions_1} unidades')\n",
    "print(f'RMSE: {rmse_1}')\n",
    "print()\n",
    "print('Región 2')\n",
    "print(f'volumen medio de reservas predicho: {mean_predictions_2} unidades')\n",
    "print(f'RMSE: {rmse_2}')\n",
    "print()"
   ]
  },
  {
   "cell_type": "markdown",
   "metadata": {},
   "source": [
    "### Analiza los resultados"
   ]
  },
  {
   "cell_type": "markdown",
   "metadata": {},
   "source": [
    "1. Volumen Medio de Reservas Predicho\n",
    "\n",
    "El volumen medio de reservas predicho indica la cantidad promedio de reservas de petróleo que se espera encontrar en los pozos en cada región:\n",
    "\n",
    "- Región 0: 92.59 unidades\n",
    "- Región 1: 68.73 unidades\n",
    "- Región 2: 94.97 unidades\n",
    "\n",
    "La Región 2 tiene el mayor volumen medio de reservas predicho, seguida de la Región 0, mientras que la Región 1 tiene el volumen medio de reservas predicho más bajo.\n",
    "\n",
    "2. Error Cuadrático Medio (RMSE)\n",
    "\n",
    "La métrica de evaluación más comúnmente usada para las tareas de regresión es el error cuadrático medio o EMC. El EMC debe ser lo más bajo posible.\n",
    "\n",
    "El RMSE mide la precisión del modelo, indicando cuánto se desvían, en promedio, las predicciones del modelo de los valores reales (actuales):\n",
    "\n",
    "Región 0: 37.58\n",
    "Región 1: 0.89\n",
    "Región 2: 40.03\n",
    "\n",
    "Un RMSE más bajo indica un modelo más preciso:\n",
    "\n",
    "- Región 1: Tiene el RMSE más bajo (0.89), lo que sugiere que el modelo de regresión lineal predice con gran precisión el volumen de reservas en esta región.\n",
    "\n",
    "- Región 0 y Región 2: Tienen RMSE significativamente más altos (37.58 y 40.03, respectivamente), lo que indica que las predicciones en estas regiones son menos precisas.\n",
    "\n",
    "En general, \n",
    "\n",
    "Región 1 tiene el modelo de predicción más preciso, con un RMSE muy bajo (0.89). Sin embargo, el volumen medio de reservas predicho es el más bajo (68.73 unidades).\n",
    "\n",
    "Región 2 tiene el mayor volumen medio de reservas predicho (94.97 unidades) pero también tiene un RMSE alto (40.03), lo que indica que las predicciones no son muy precisas.\n",
    "\n",
    "Región 0 tiene un volumen medio de reservas predicho de 92.59 unidades y un RMSE de 37.58, lo que la coloca en un término medio en cuanto a volumen de reservas y precisión del modelo.\n",
    "\n",
    "La Región 0 ofrece un equilibrio entre el volumen medio de reservas y la precisión del modelo, lo que podría ser una opción viable dependiendo de otros factores "
   ]
  },
  {
   "cell_type": "markdown",
   "metadata": {},
   "source": [
    "## Cálculo de ganancias:"
   ]
  },
  {
   "cell_type": "markdown",
   "metadata": {},
   "source": [
    "Condiciones:\n",
    "\n",
    "- Al explorar la región, se lleva a cabo un estudio de 500 puntos con la selección de los mejores 200 puntos para el cálculo del beneficio.\n",
    "- El presupuesto para el desarrollo de 200 pozos petroleros es de 100 millones de dólares.\n",
    "- Un barril de materias primas genera 4.5 USD de ingresos. El ingreso de una unidad de producto es de 4500 dólares (el volumen de reservas está expresado en miles de barriles).\n",
    "- Después de la evaluación de riesgo, mantén solo las regiones con riesgo de pérdidas inferior al 2.5%. De las que se ajustan a los criterios, se debe seleccionar la región con el beneficio promedio más alto.\n"
   ]
  },
  {
   "cell_type": "markdown",
   "metadata": {},
   "source": [
    "Dada la inversión de 100 millones por 200 pozos petrolíferos, de media un pozo petrolífero debe producir al menos un valor de 500,000 dólares en unidades para evitar pérdidas (esto es equivalente a 111.1 unidades). Compara esta cantidad con la cantidad media de reservas en cada región."
   ]
  },
  {
   "cell_type": "markdown",
   "metadata": {},
   "source": [
    "### Almacena todos los valores necesarios para los cálculos en variables separadas."
   ]
  },
  {
   "cell_type": "code",
   "execution_count": 9,
   "metadata": {},
   "outputs": [
    {
     "name": "stdout",
     "output_type": "stream",
     "text": [
      "Cada pozo debe producir al menos 111.1 unidades para evitar pérdidas.\n"
     ]
    }
   ],
   "source": [
    "# Almacenar las variables\n",
    "num_pozos = 200\n",
    "ingre_unid_prod = 4500 # El ingreso de una unidad de producto es de 4.5 K USD\n",
    "inversion = 100000000\n",
    "costo_prod = 500000\n",
    "cost_por_pozo = inversion / num_pozos\n",
    "min_uni_pozo = 111.1\n",
    "\n",
    "print(f'Cada pozo debe producir al menos {min_uni_pozo} unidades para evitar pérdidas.')"
   ]
  },
  {
   "cell_type": "markdown",
   "metadata": {},
   "source": [
    "### Compara el umbral minimo de pérdidas con la cantidad media de reservas en cada región."
   ]
  },
  {
   "cell_type": "markdown",
   "metadata": {},
   "source": [
    "Dada la inversión de 100 millones por 200 pozos petrolíferos, de media un pozo petrolífero debe producir al menos un valor de 500,000 dólares en unidades para evitar pérdidas (esto es equivalente a 111.1 unidades). "
   ]
  },
  {
   "cell_type": "code",
   "execution_count": 10,
   "metadata": {},
   "outputs": [
    {
     "name": "stdout",
     "output_type": "stream",
     "text": [
      "Promedio de reservas región 0: 92.50000000000001 unidades\n",
      "Promedio de reservas región 1: 68.82500000000002 unidades\n",
      "Promedio de reservas región 2: 95.00000000000004 unidades\n"
     ]
    }
   ],
   "source": [
    "# Cantidad de media de reservas en cada región\n",
    "\n",
    "mean_reserves_0 = df_0['product'].mean()\n",
    "mean_reserves_1 = df_1['product'].mean()\n",
    "mean_reserves_2 = df_2['product'].mean()\n",
    "\n",
    "print(f'Promedio de reservas región 0: {mean_reserves_0} unidades')\n",
    "print(f'Promedio de reservas región 1: {mean_reserves_1} unidades')\n",
    "print(f'Promedio de reservas región 2: {mean_reserves_2} unidades')"
   ]
  },
  {
   "cell_type": "markdown",
   "metadata": {},
   "source": [
    "De media un pozo petrolífero debe producir al menos un valor de 500,000 dólares en unidades para evitar pérdidas (esto es equivalente a 111.1 unidades), en este caso el valro medio de unidades producido por cada región es:\n",
    "\n",
    "- Región 0: 92.5\n",
    "- Región 1: 68.825\n",
    "- Región 2: 95\n",
    "\n",
    "Todos estos valores están por debajo de la media del valor minimo para no producir pérdidas, lo que indica que en las 3 regiones la producción no alcanza los valores suficientemente altas para producir ganancias.\n",
    "\n",
    "En conclusión ninguna de las tres regiones tiene una cantidad media de reservas que cumpla con la producción mínima requerida de 111.1 unidades para evitar pérdidas en promedio. Sin embargo, esto no necesariamente descarta ninguna región."
   ]
  },
  {
   "cell_type": "markdown",
   "metadata": {},
   "source": [
    "## Ganancia de un conjunto de pozos de petróleo seleccionados"
   ]
  },
  {
   "cell_type": "markdown",
   "metadata": {},
   "source": [
    "### Elige los 200 pozos con los valores de predicción más altos de cada una de las 3 regiones (es decir, archivos 'csv')"
   ]
  },
  {
   "cell_type": "code",
   "execution_count": 11,
   "metadata": {},
   "outputs": [],
   "source": [
    "def top_pozos(predictions, count=200):\n",
    "    probs_sorted = predictions.sort_values(ascending=False)[:count]\n",
    "    return probs_sorted\n",
    "\n",
    "top_pozos_0 = top_pozos(pd.Series(results_0['predictions']))\n",
    "top_pozos_1 = top_pozos(pd.Series(results_1['predictions']))\n",
    "top_pozos_2 = top_pozos(pd.Series(results_2['predictions']))"
   ]
  },
  {
   "cell_type": "markdown",
   "metadata": {},
   "source": [
    "### Resume el volumen objetivo de reservas según dichas predicciones. Almacena las predicciones para los 200 pozos para cada una de las 3 regiones."
   ]
  },
  {
   "cell_type": "code",
   "execution_count": 12,
   "metadata": {},
   "outputs": [
    {
     "name": "stdout",
     "output_type": "stream",
     "text": [
      "Volumen total de los 200 mejores pozos de la región 0: 31102.3308388114 unidades\n",
      "Volumen total de los 200 mejores pozos de la región 1: 27746.026782163426 unidades\n",
      "Volumen total de los 200 mejores pozos de la región 2: 29603.898658318347 unidades\n"
     ]
    }
   ],
   "source": [
    "sum_top_pozos_0 = top_pozos_0.sum()\n",
    "sum_top_pozos_1 = top_pozos_1.sum()\n",
    "sum_top_pozos_2 = top_pozos_2.sum()\n",
    "\n",
    "print(f'Volumen total de los 200 mejores pozos de la región 0: {sum_top_pozos_0} unidades')\n",
    "print(f'Volumen total de los 200 mejores pozos de la región 1: {sum_top_pozos_1} unidades')\n",
    "print(f'Volumen total de los 200 mejores pozos de la región 2: {sum_top_pozos_2} unidades')"
   ]
  },
  {
   "cell_type": "markdown",
   "metadata": {},
   "source": [
    "### Calcula la ganancia potencial de los 200 pozos principales por región. Presenta tus conclusiones: propón una región para el desarrollo de pozos petrolíferos y justifica tu elección."
   ]
  },
  {
   "cell_type": "code",
   "execution_count": 13,
   "metadata": {},
   "outputs": [
    {
     "name": "stdout",
     "output_type": "stream",
     "text": [
      "Ganancia esperada región 0: $33208260.43139851\n",
      "Ganancia esperada región 1: $24150866.966815114\n",
      "Ganancia esperada región 2: $27103499.635998324\n"
     ]
    }
   ],
   "source": [
    "# Funcion de ganancias\n",
    "\n",
    "def revenue(df_pozos, count= 200, cost_por_pozo= 500000):\n",
    "    probs_sorted = df_pozos.sort_values(by='predictions', ascending=False)[:count]\n",
    "    probs_real = probs_sorted['real']\n",
    "    total_revenue = 4500 * probs_real.sum()\n",
    "    total_cost = count * cost_por_pozo\n",
    "    total_profit = total_revenue - total_cost\n",
    "    return total_profit \n",
    "\n",
    "profit_0 = revenue(results_0)\n",
    "profit_1 = revenue(results_1)\n",
    "profit_2 = revenue(results_2)\n",
    "\n",
    "# Calcular ganancias esperadas para cada región\n",
    "\n",
    "\n",
    "print(f'Ganancia esperada región 0: ${profit_0}')\n",
    "print(f'Ganancia esperada región 1: ${profit_1}')\n",
    "print(f'Ganancia esperada región 2: ${profit_2}')\n"
   ]
  },
  {
   "cell_type": "code",
   "execution_count": 14,
   "metadata": {},
   "outputs": [
    {
     "name": "stdout",
     "output_type": "stream",
     "text": [
      "La región 0 es la indicada para el desarrollo de pozos petroliferos\n"
     ]
    }
   ],
   "source": [
    "# Región con mayor ganancia\n",
    "\n",
    "max_profit = max(profit_0, profit_1, profit_2)\n",
    "\n",
    "if max_profit == profit_0:\n",
    "    print('La región 0 es la indicada para el desarrollo de pozos petroliferos')\n",
    "elif max_profit == profit_1:\n",
    "    print('La región 1 es la indicada para el desarrollo de pozos petroliferos')\n",
    "else:\n",
    "    print('La región 2 es la indicada para el desarrollo de pozos petroliferos')"
   ]
  },
  {
   "cell_type": "markdown",
   "metadata": {},
   "source": [
    "Ganancias de las 3 regiones:\n",
    "\n",
    "- Región 0: $33,208,260.43\n",
    "\n",
    "- Región 1: $24,150,866.96\n",
    "\n",
    "- Región 2: $27,103,499.63\n",
    "\n",
    "Volumen de las 3 regiones:\n",
    "\n",
    "- Región 0: 31,102.33 Unidades\n",
    "- Región 1: 27,746.02 Unidades\n",
    "- Región 2: 29,603.89 Unidades\n",
    "\n",
    "\n",
    "La mejor región para la producción de los pozos petroleros es la región 0, al tener una ganancia mayor en comparación con las otras regiones, siendo esta de $33,208,260.43 USD. Seguida de la región 2 y siendo la región 1, la región que produce menos ganancias en el desarrollo de pozos petroliferos.\n",
    "\n",
    "El volumen total de los 200 mejores pozos también es mayor en la Región 0 con 31,102.33 unidades, lo que sugiere una mayor concentración de reservas en los mejores pozos.\n",
    "\n",
    "La región 0 no solo tiene la mayor ganancia esperada, sino que también posee el mayor volumen total de reservas entre los 200 mejores pozos. Esto indica que, al elegir esta región, estamos seleccionando los pozos con el mayor rendimiento potencial.\n",
    "\n",
    "La región 2 es la segunda mejor opción en términos de ganancias y volumen, pero aún está significativamente por debajo de la Región 0.\n",
    "\n",
    "La región 1 presenta tanto la menor ganancia esperada como el menor volumen total de reservas entre los 200 mejores pozos, lo que la convierte en la opción menos favorable.\n",
    "\n",
    "En conclusión general, la región indicada para el desarrollo de pozos petrolíferos es Región 0.\n",
    "\n",
    "Esta región ofrece la mayor ganancia esperada y el mayor volumen de reservas en los pozos seleccionados, lo que maximiza el retorno de la inversión y reduce el riesgo de pérdidas."
   ]
  },
  {
   "cell_type": "markdown",
   "metadata": {},
   "source": [
    "## Calcula riesgos y ganancias para cada región"
   ]
  },
  {
   "cell_type": "markdown",
   "metadata": {},
   "source": [
    "### Técnica del bootstrapping "
   ]
  },
  {
   "cell_type": "markdown",
   "metadata": {},
   "source": [
    "Utilizando las predicciones que almacenaste en el paso 4.2, emplea la técnica del bootstrapping con 1000 muestras para hallar la distribución de los beneficios."
   ]
  },
  {
   "cell_type": "code",
   "execution_count": 15,
   "metadata": {},
   "outputs": [],
   "source": [
    "def bootstrap_profit(df_region, n_bootstrap=1000, n_pozos=200, state=12345):\n",
    "    state = np.random.RandomState(state)\n",
    "    values = []\n",
    "    for i in range(n_bootstrap):\n",
    "        sample = df_region.sample(n=500, replace=True, random_state=state)\n",
    "        profit = revenue(sample, n_pozos)\n",
    "        values.append(profit)\n",
    "    values = pd.Series(values)\n",
    "    lower = values.quantile(0.025) # Intervalo de confianza del 95%\n",
    "    upper = values.quantile(0.975)\n",
    "    mean = values.mean()\n",
    "    risk = (values < 0).mean() # Calcula el promedio de los valores de ganancia negativa (pérdida)\n",
    "    loss_percentage = risk * 100  # convertir a porcentaje\n",
    "    return mean, lower, upper, risk, loss_percentage"
   ]
  },
  {
   "cell_type": "markdown",
   "metadata": {},
   "source": [
    "### Encuentra el beneficio promedio"
   ]
  },
  {
   "cell_type": "markdown",
   "metadata": {},
   "source": [
    "Encuentra el beneficio promedio, el intervalo de confianza del 95% y el riesgo de pérdidas. La pérdida es una ganancia negativa, calcúlala como una probabilidad y luego exprésala como un porcentaje."
   ]
  },
  {
   "cell_type": "code",
   "execution_count": 16,
   "metadata": {},
   "outputs": [
    {
     "name": "stdout",
     "output_type": "stream",
     "text": [
      "Región 0\n",
      "Ingresos promedios: $ 3961649.8480237117\n",
      "Intervalo de confianza 95%: \n",
      " Cuantil del 2.5%: $-1112155.4589049604 \n",
      " Cuantil del 97.5%: $9097669.41553423 \n",
      " Intervalo de confianza: (9097669.41553423, -1112155.4589049604) (10209824.874439191)\n",
      "Probabilidad de Riesgo de pérdida: 0.069\n",
      "Porcentaje de Riesgo de pérdida: 6.9%\n",
      "\n",
      "Región 1\n",
      "Ingresos promedios: $ 4560451.057866608\n",
      "Intervalo de confianza 95%: \n",
      " Cuantil del 2.5%: $338205.0939898458 \n",
      " Cuantil del 97.5%: $8522894.538660347 \n",
      " Intervalo de confianza: (8522894.538660347, 338205.0939898458) (8184689.444670502)\n",
      "Probabilidad de Riesgo de pérdida: 0.015\n",
      "Porcentaje de Riesgo de pérdida: 1.5%\n",
      "\n",
      "Región 2\n",
      "Ingresos promedios: $ 4044038.665683568\n",
      "Intervalo de confianza 95%: \n",
      " Cuantil del 2.5%: $-1633504.1339559986 \n",
      " Cuantil del 97.5%: $9503595.749237997 \n",
      " Intervalo de confianza: (9503595.749237997, -1633504.1339559986) (11137099.883193996)\n",
      "Probabilidad de Riesgo de pérdida: 0.076\n",
      "Porcentaje de Riesgo de pérdida: 7.6%\n"
     ]
    }
   ],
   "source": [
    "mean_profit_0, lower_0, upper_0, risk_0, loss_percentage_0 = bootstrap_profit(results_0)  \n",
    "mean_profit_1, lower_1, upper_1, risk_1, loss_percentage_1 = bootstrap_profit(results_1)  \n",
    "mean_profit_2, lower_2, upper_2, risk_2, loss_percentage_2 = bootstrap_profit(results_2)  \n",
    "\n",
    "print('Región 0')\n",
    "print('Ingresos promedios: $', mean_profit_0)\n",
    "print(f'Intervalo de confianza 95%: \\n Cuantil del 2.5%: ${lower_0} \\n Cuantil del 97.5%: ${upper_0} \\n Intervalo de confianza: ({upper_0}, {lower_0}) ({upper_0 - lower_0})')\n",
    "print(f'Probabilidad de Riesgo de pérdida: {risk_0}')\n",
    "print(f'Porcentaje de Riesgo de pérdida: {loss_percentage_0}%')\n",
    "print()\n",
    "\n",
    "print('Región 1')\n",
    "print('Ingresos promedios: $', mean_profit_1)\n",
    "print(f'Intervalo de confianza 95%: \\n Cuantil del 2.5%: ${lower_1} \\n Cuantil del 97.5%: ${upper_1} \\n Intervalo de confianza: ({upper_1}, {lower_1}) ({upper_1 - lower_1})')\n",
    "print(f'Probabilidad de Riesgo de pérdida: {risk_1}')\n",
    "print(f'Porcentaje de Riesgo de pérdida: {loss_percentage_1}%')\n",
    "print()\n",
    "\n",
    "print('Región 2')\n",
    "print('Ingresos promedios: $', mean_profit_2)\n",
    "print(f'Intervalo de confianza 95%: \\n Cuantil del 2.5%: ${lower_2} \\n Cuantil del 97.5%: ${upper_2} \\n Intervalo de confianza: ({upper_2}, {lower_2}) ({upper_2 - lower_2})')\n",
    "print(f'Probabilidad de Riesgo de pérdida: {risk_2}')\n",
    "print(f'Porcentaje de Riesgo de pérdida: {loss_percentage_2}%')"
   ]
  },
  {
   "cell_type": "markdown",
   "metadata": {},
   "source": [
    "### Presenta tus conclusiones:"
   ]
  },
  {
   "cell_type": "markdown",
   "metadata": {},
   "source": [
    "Resultados obtenidos a través del método de bootstrapping de las 3 regiones, con un intervalo de confianza del 95%:\n",
    "\n",
    "- Región 0\n",
    "\n",
    "Ingresos promedios: $ 3,961,649.84\n",
    "\n",
    "Intervalo de confianza 95%: \n",
    "\n",
    " Cuantil del 2.5%: $-1,112,155.45\n",
    " \n",
    " Cuantil del 97.5%: $9,097,669.41 \n",
    " \n",
    " Intervalo de confianza: (9,097,669.41, -1,112,155.45) (10,209,824.87)\n",
    " \n",
    "Probabilidad de Riesgo de pérdida: 0.069 (6.9%)\n",
    "\n",
    "\n",
    "- Región 1\n",
    "\n",
    "Ingresos promedios: $ 4,560,451.057\n",
    "\n",
    "Intervalo de confianza 95%: \n",
    "\n",
    " Cuantil del 2.5%: $338,205.093\n",
    " \n",
    " Cuantil del 97.5%: $8,522,894.538\n",
    " \n",
    " Intervalo de confianza: (8,522,894.53, 338,205.09) (8,184,689.44)\n",
    " \n",
    "Probabilidad de Riesgo de pérdida: 0.015 (1.5%)\n",
    "    \n",
    "\n",
    "- Región 2\n",
    "\n",
    "Ingresos promedios: $ 4,044,038.66\n",
    "\n",
    "Intervalo de confianza 95%: \n",
    "\n",
    " Cuantil del 2.5%: $-1,633,504.13\n",
    " \n",
    " Cuantil del 97.5%: $9,503,595.74\n",
    " \n",
    " Intervalo de confianza: (9,503,595.74, -1,633,504.13) (11,137,099.88)\n",
    " \n",
    "Probabilidad de Riesgo de pérdida: 0.076\n",
    "\n",
    "Porcentaje de Riesgo de pérdida: 7.6%\n",
    "\n",
    "\n",
    "    "
   ]
  },
  {
   "cell_type": "markdown",
   "metadata": {},
   "source": [
    "En el proyecto, los cuantiles fueron utilizados para determinar el intervalo de confianza del 95% de los beneficios esperados. \n",
    "\n",
    "Esto se hizo calculando el 2.5% y el 97.5% de los beneficios obtenidos mediante la técnica del bootstrapping, proporcionando una medida de la variabilidad y la incertidumbre en los beneficios esperados. Además, se utilizó para evaluar el riesgo de pérdidas, calculando la proporción de muestras en las que los beneficios eran negativos.\n",
    "\n",
    "Calculamos el percentil 2.5 (P2.5) y el percentil 97.5 (P97.5) de las ganancias simuladas.\n",
    "\n",
    "Este intervalo de confianza nos dice que estamos 95% seguros de que la ganancia real se encuentra entre estos dos valores.\n",
    "\n",
    "\n",
    "Calculamos la probabilidad de que la ganancia sea negativa (pérdida) al ver qué porcentaje de las ganancias simuladas es menor que cero.\n",
    "\n",
    "Percentil 2.5 (P2.5): Si este valor es muy bajo o negativo, indica que hay una probabilidad significativa de obtener ganancias bajas o pérdidas.\n",
    "\n",
    "Percentil 97.5 (P97.5): Este valor indica el límite superior de las ganancias esperadas. Si es alto, muestra el potencial máximo de ganancias.\n",
    "\n",
    "Riesgo de Pérdida: Un riesgo de pérdida bajo (<2.5%) indica que es poco probable que la inversión resulte en pérdidas, lo que es crucial para la toma de decisiones.\n",
    "\n",
    "\n",
    "Análisis de Intervalos de Confianza\n",
    "\n",
    "Región 0: Aunque su intervalo de confianza es más similar al de la región 1, la probabilidad de pérdidad es significativamente mayor siendo casi 6 veces mayor.\n",
    "\n",
    "Región 1: El intervalo de confianza es más estrecho comparado con las otras regiones, además tiene un porcentaje de probabilidad de riesgo de pérdidas menor, estando dentro del rango establecido menor a 2.5%\n",
    "\n",
    "Región 2: Tiene el intervalo de confianza más amplio y las pérdidas más altas."
   ]
  },
  {
   "cell_type": "markdown",
   "metadata": {},
   "source": [
    "**Región elegida**\n",
    "\n",
    "Las tres regiones presentan ingresos promedio similares, pero probabilidades de riesgo de pérdida con diferencias. Sin embargo, de las tres, **la Región 1** con un ingreso promedio de $ 4,560,451.057 y una probabilidad de Riesgo de pérdida: 0.015 (1.5%)"
   ]
  },
  {
   "cell_type": "markdown",
   "metadata": {},
   "source": [
    "## Conclusiones Generales"
   ]
  },
  {
   "cell_type": "markdown",
   "metadata": {},
   "source": [
    "- Entrenamiento y Evaluación del Modelo:\n",
    "\n",
    "La Región 1 mostró la mayor precisión en las predicciones con un RMSE de 0.89, aunque tuvo el menor volumen medio de reservas predicho (68.73 unidades).\n",
    "\n",
    "La Región 2 tuvo el mayor volumen medio predicho (94.97 unidades), pero con la mayor imprecisión (RMSE de 40.03).\n",
    "\n",
    "La Región 0 presentó un equilibrio entre el volumen medio de reservas (92.59 unidades) y la precisión del modelo (RMSE de 37.58).\n",
    "\n",
    "- Cálculo de Ganancias:\n",
    "\n",
    "Se determinó que cada pozo debe producir al menos 111.1 unidades para evitar pérdidas.\n",
    "\n",
    "Ninguna región cumplió con este umbral en promedio\n",
    "\n",
    "- Selección de Pozos:\n",
    "\n",
    "Se calcularon las ganancias potenciales para los 200 mejores pozos:\n",
    "\n",
    "Región 0: $33,208,260.43 USD\n",
    "\n",
    "Región 1: $24,150,866.96 USD\n",
    "\n",
    "Región 2: $27,103,499.63 USD\n",
    "\n",
    "Conclusión: La Región 0 mostró la mayor ganancia esperada y el mayor volumen total de reservas entre los 200 mejores pozos.\n",
    "\n",
    "- Evaluación de Riesgos y Ganancias con Bootstrapping:\n",
    "\n",
    "**Región 0:**\n",
    "\n",
    "Beneficio promedio: $3,961,649.85\n",
    "\n",
    "Intervalo de confianza  (95%): [-$1,112,155.46, $9,097,669.42]\n",
    "\n",
    "Riesgo de pérdida: 6.9%\n",
    "\n",
    "**Región 1:**\n",
    "\n",
    "Beneficio promedio: $4,560,451.06\n",
    "\n",
    "Intervalo de confianza  (95%): [$338,205.09, $8,522,894.54]\n",
    "\n",
    "Riesgo de pérdida: 1.5%\n",
    "\n",
    "**Región 2:**\n",
    "\n",
    "Beneficio promedio: $4,044,038.67\n",
    "\n",
    "Intervalo de confianza  (95%): [-$1,633,504.13, $9,503,595.75]\n",
    "\n",
    "Riesgo de pérdida: 7.6%\n",
    "\n",
    "\n",
    "la Región 1 tiene el modelo de predicción más preciso y el menor riesgo de pérdida, aunque su volumen medio de reservas es el más bajo.\n",
    "\n",
    "La Región 2 tiene el mayor volumen medio de reservas predicho, pero con una alta imprecisión y un mayor riesgo de pérdida.\n",
    "\n",
    "La Región 0 ofrece un equilibrio entre el volumen medio de reservas y la precisión del modelo, pero con un riesgo de pérdida aceptable.\n",
    "\n",
    "\n",
    "Región Recomendada:\n",
    "\n",
    "La Región 1 es la opción más favorable para el desarrollo de pozos petrolíferos, dado su menor riesgo de pérdida y el beneficio promedio más alto.\n",
    "\n",
    "Aunque la Región 0 tiene la mayor ganancia esperada, su riesgo de pérdida es mayor.\n",
    "\n",
    "La Región 2 también es viable, pero tiene un mayor riesgo de pérdida comparado con la Región 1.\n",
    "\n",
    "En conclusión, la **Región 1** es la indicada para el desarrollo de nuevos pozos petrolíferos, ya que maximiza el retorno de la inversión y minimiza el riesgo de pérdidas."
   ]
  }
 ],
 "metadata": {
  "ExecuteTimeLog": [
   {
    "duration": 4,
    "start_time": "2024-06-17T21:41:07.946Z"
   },
   {
    "duration": 316,
    "start_time": "2024-06-17T22:11:21.166Z"
   },
   {
    "duration": 1270,
    "start_time": "2024-06-17T22:11:26.525Z"
   },
   {
    "duration": 837,
    "start_time": "2024-06-17T22:13:24.766Z"
   },
   {
    "duration": 122,
    "start_time": "2024-06-17T22:13:42.325Z"
   },
   {
    "duration": 505,
    "start_time": "2024-06-17T22:16:32.361Z"
   },
   {
    "duration": 46,
    "start_time": "2024-06-17T23:59:46.856Z"
   },
   {
    "duration": 54,
    "start_time": "2024-06-18T00:00:13.246Z"
   },
   {
    "duration": 86,
    "start_time": "2024-06-18T00:00:56.010Z"
   },
   {
    "duration": 33,
    "start_time": "2024-06-18T00:18:44.106Z"
   },
   {
    "duration": 28,
    "start_time": "2024-06-18T00:18:56.772Z"
   },
   {
    "duration": 23,
    "start_time": "2024-06-18T00:19:25.314Z"
   },
   {
    "duration": 5,
    "start_time": "2024-06-18T00:25:57.583Z"
   },
   {
    "duration": 397,
    "start_time": "2024-06-18T00:25:58.782Z"
   },
   {
    "duration": 79,
    "start_time": "2024-06-18T00:25:59.549Z"
   },
   {
    "duration": 23,
    "start_time": "2024-06-18T00:26:00.431Z"
   },
   {
    "duration": 24,
    "start_time": "2024-06-18T00:28:07.236Z"
   },
   {
    "duration": 8,
    "start_time": "2024-06-18T00:28:18.191Z"
   },
   {
    "duration": 25,
    "start_time": "2024-06-18T01:15:33.637Z"
   },
   {
    "duration": 20,
    "start_time": "2024-06-18T01:22:35.448Z"
   },
   {
    "duration": 59,
    "start_time": "2024-06-18T01:23:37.496Z"
   },
   {
    "duration": 8,
    "start_time": "2024-06-18T01:36:19.099Z"
   },
   {
    "duration": 5,
    "start_time": "2024-06-18T01:36:28.197Z"
   },
   {
    "duration": 91,
    "start_time": "2024-06-18T01:40:34.539Z"
   },
   {
    "duration": 67,
    "start_time": "2024-06-18T01:40:45.560Z"
   },
   {
    "duration": 44,
    "start_time": "2024-06-18T01:46:10.101Z"
   },
   {
    "duration": 50,
    "start_time": "2024-06-18T01:46:33.677Z"
   },
   {
    "duration": 6,
    "start_time": "2024-06-18T01:56:54.418Z"
   },
   {
    "duration": 87,
    "start_time": "2024-06-18T01:58:21.953Z"
   },
   {
    "duration": 77,
    "start_time": "2024-06-18T01:58:30.251Z"
   },
   {
    "duration": 39,
    "start_time": "2024-06-18T02:03:25.388Z"
   },
   {
    "duration": 80,
    "start_time": "2024-06-18T02:05:14.248Z"
   },
   {
    "duration": 78,
    "start_time": "2024-06-18T02:05:27.150Z"
   },
   {
    "duration": 4,
    "start_time": "2024-06-18T02:09:43.326Z"
   },
   {
    "duration": 5,
    "start_time": "2024-06-18T02:13:05.548Z"
   },
   {
    "duration": 4,
    "start_time": "2024-06-18T02:13:08.694Z"
   },
   {
    "duration": 5,
    "start_time": "2024-06-18T02:13:09.980Z"
   },
   {
    "duration": 3,
    "start_time": "2024-06-18T02:13:56.133Z"
   },
   {
    "duration": 5,
    "start_time": "2024-06-18T02:18:20.847Z"
   },
   {
    "duration": 4,
    "start_time": "2024-06-18T02:18:48.342Z"
   },
   {
    "duration": 4,
    "start_time": "2024-06-18T02:19:26.291Z"
   },
   {
    "duration": 51,
    "start_time": "2024-06-18T02:20:22.382Z"
   },
   {
    "duration": 181,
    "start_time": "2024-06-18T02:20:47.757Z"
   },
   {
    "duration": 180,
    "start_time": "2024-06-18T02:21:11.356Z"
   },
   {
    "duration": 1193,
    "start_time": "2024-06-18T02:21:26.093Z"
   },
   {
    "duration": 410,
    "start_time": "2024-06-18T02:21:27.290Z"
   },
   {
    "duration": 103,
    "start_time": "2024-06-18T02:21:27.703Z"
   },
   {
    "duration": 39,
    "start_time": "2024-06-18T02:21:27.809Z"
   },
   {
    "duration": 5,
    "start_time": "2024-06-18T02:21:27.852Z"
   },
   {
    "duration": 6,
    "start_time": "2024-06-18T02:21:27.861Z"
   },
   {
    "duration": 644,
    "start_time": "2024-06-18T02:21:27.870Z"
   },
   {
    "duration": 5,
    "start_time": "2024-06-18T02:22:19.088Z"
   },
   {
    "duration": 138,
    "start_time": "2024-06-18T02:22:20.490Z"
   },
   {
    "duration": 53,
    "start_time": "2024-06-18T02:22:39.758Z"
   },
   {
    "duration": 54,
    "start_time": "2024-06-18T02:23:40.938Z"
   },
   {
    "duration": 144,
    "start_time": "2024-06-18T02:23:56.102Z"
   },
   {
    "duration": 85,
    "start_time": "2024-06-18T02:29:09.961Z"
   },
   {
    "duration": 1149,
    "start_time": "2024-06-18T02:29:15.587Z"
   },
   {
    "duration": 396,
    "start_time": "2024-06-18T02:29:16.740Z"
   },
   {
    "duration": 102,
    "start_time": "2024-06-18T02:29:17.139Z"
   },
   {
    "duration": 23,
    "start_time": "2024-06-18T02:29:17.244Z"
   },
   {
    "duration": 5,
    "start_time": "2024-06-18T02:29:17.271Z"
   },
   {
    "duration": 5,
    "start_time": "2024-06-18T02:29:17.279Z"
   },
   {
    "duration": 483,
    "start_time": "2024-06-18T02:29:17.288Z"
   },
   {
    "duration": 154,
    "start_time": "2024-06-18T02:29:44.976Z"
   },
   {
    "duration": 205,
    "start_time": "2024-06-18T02:30:21.535Z"
   },
   {
    "duration": 1208,
    "start_time": "2024-06-18T02:30:31.193Z"
   },
   {
    "duration": 376,
    "start_time": "2024-06-18T02:30:32.405Z"
   },
   {
    "duration": 98,
    "start_time": "2024-06-18T02:30:32.784Z"
   },
   {
    "duration": 44,
    "start_time": "2024-06-18T02:30:32.885Z"
   },
   {
    "duration": 4,
    "start_time": "2024-06-18T02:30:32.934Z"
   },
   {
    "duration": 8,
    "start_time": "2024-06-18T02:30:32.941Z"
   },
   {
    "duration": 565,
    "start_time": "2024-06-18T02:30:32.952Z"
   },
   {
    "duration": 5,
    "start_time": "2024-06-18T02:31:03.255Z"
   },
   {
    "duration": 1189,
    "start_time": "2024-06-18T02:31:07.914Z"
   },
   {
    "duration": 373,
    "start_time": "2024-06-18T02:31:09.107Z"
   },
   {
    "duration": 102,
    "start_time": "2024-06-18T02:31:09.483Z"
   },
   {
    "duration": 44,
    "start_time": "2024-06-18T02:31:09.588Z"
   },
   {
    "duration": 4,
    "start_time": "2024-06-18T02:31:09.636Z"
   },
   {
    "duration": 5,
    "start_time": "2024-06-18T02:31:09.643Z"
   },
   {
    "duration": 196,
    "start_time": "2024-06-18T02:31:09.651Z"
   },
   {
    "duration": 166,
    "start_time": "2024-06-18T02:33:58.863Z"
   },
   {
    "duration": 4,
    "start_time": "2024-06-18T02:34:00.619Z"
   },
   {
    "duration": 417,
    "start_time": "2024-06-18T02:35:04.810Z"
   },
   {
    "duration": 46,
    "start_time": "2024-06-18T02:35:48.625Z"
   },
   {
    "duration": 1170,
    "start_time": "2024-06-18T02:35:57.689Z"
   },
   {
    "duration": 373,
    "start_time": "2024-06-18T02:35:58.863Z"
   },
   {
    "duration": 111,
    "start_time": "2024-06-18T02:35:59.239Z"
   },
   {
    "duration": 24,
    "start_time": "2024-06-18T02:35:59.353Z"
   },
   {
    "duration": 5,
    "start_time": "2024-06-18T02:35:59.380Z"
   },
   {
    "duration": 38,
    "start_time": "2024-06-18T02:35:59.389Z"
   },
   {
    "duration": 202,
    "start_time": "2024-06-18T02:35:59.430Z"
   },
   {
    "duration": 694,
    "start_time": "2024-06-18T02:35:59.636Z"
   },
   {
    "duration": 4,
    "start_time": "2024-06-18T02:36:31.162Z"
   },
   {
    "duration": 460,
    "start_time": "2024-06-18T02:36:32.007Z"
   },
   {
    "duration": 80,
    "start_time": "2024-06-18T02:36:32.804Z"
   },
   {
    "duration": 24,
    "start_time": "2024-06-18T02:36:33.566Z"
   },
   {
    "duration": 4,
    "start_time": "2024-06-18T02:36:35.960Z"
   },
   {
    "duration": 8,
    "start_time": "2024-06-18T02:36:37.286Z"
   },
   {
    "duration": 109,
    "start_time": "2024-06-18T02:36:38.838Z"
   },
   {
    "duration": 40,
    "start_time": "2024-06-18T02:36:40.500Z"
   },
   {
    "duration": 7,
    "start_time": "2024-06-18T02:37:04.918Z"
   },
   {
    "duration": 6,
    "start_time": "2024-06-18T02:37:22.020Z"
   },
   {
    "duration": 5,
    "start_time": "2024-06-18T02:37:52.863Z"
   },
   {
    "duration": 6,
    "start_time": "2024-06-18T02:38:01.885Z"
   },
   {
    "duration": 1249,
    "start_time": "2024-06-18T02:47:05.122Z"
   },
   {
    "duration": 385,
    "start_time": "2024-06-18T02:47:06.375Z"
   },
   {
    "duration": 106,
    "start_time": "2024-06-18T02:47:06.763Z"
   },
   {
    "duration": 24,
    "start_time": "2024-06-18T02:47:06.872Z"
   },
   {
    "duration": 27,
    "start_time": "2024-06-18T02:47:06.900Z"
   },
   {
    "duration": 6,
    "start_time": "2024-06-18T02:47:06.929Z"
   },
   {
    "duration": 199,
    "start_time": "2024-06-18T02:47:06.938Z"
   },
   {
    "duration": 6,
    "start_time": "2024-06-18T02:47:07.140Z"
   },
   {
    "duration": 6,
    "start_time": "2024-06-18T02:47:07.226Z"
   },
   {
    "duration": 5,
    "start_time": "2024-06-18T02:58:29.804Z"
   },
   {
    "duration": 405,
    "start_time": "2024-06-18T03:22:15.660Z"
   },
   {
    "duration": 1119,
    "start_time": "2024-06-18T03:22:28.673Z"
   },
   {
    "duration": 384,
    "start_time": "2024-06-18T03:22:29.795Z"
   },
   {
    "duration": 99,
    "start_time": "2024-06-18T03:22:30.181Z"
   },
   {
    "duration": 46,
    "start_time": "2024-06-18T03:22:30.285Z"
   },
   {
    "duration": 4,
    "start_time": "2024-06-18T03:22:30.334Z"
   },
   {
    "duration": 4,
    "start_time": "2024-06-18T03:22:30.342Z"
   },
   {
    "duration": 195,
    "start_time": "2024-06-18T03:22:30.349Z"
   },
   {
    "duration": 81,
    "start_time": "2024-06-18T03:22:30.547Z"
   },
   {
    "duration": 6,
    "start_time": "2024-06-18T03:22:30.631Z"
   },
   {
    "duration": 493,
    "start_time": "2024-06-18T03:22:30.642Z"
   },
   {
    "duration": 5,
    "start_time": "2024-06-18T03:22:48.862Z"
   },
   {
    "duration": 30,
    "start_time": "2024-06-18T03:22:52.151Z"
   },
   {
    "duration": 16,
    "start_time": "2024-06-18T03:23:02.882Z"
   },
   {
    "duration": 5,
    "start_time": "2024-06-18T03:23:06.374Z"
   },
   {
    "duration": 16,
    "start_time": "2024-06-18T03:23:06.892Z"
   },
   {
    "duration": 18,
    "start_time": "2024-06-18T03:25:38.197Z"
   },
   {
    "duration": 19,
    "start_time": "2024-06-18T03:25:57.933Z"
   },
   {
    "duration": 3,
    "start_time": "2024-06-18T03:27:30.094Z"
   },
   {
    "duration": 1207,
    "start_time": "2024-06-18T20:41:29.352Z"
   },
   {
    "duration": 501,
    "start_time": "2024-06-18T20:41:30.563Z"
   },
   {
    "duration": 96,
    "start_time": "2024-06-18T20:41:31.067Z"
   },
   {
    "duration": 44,
    "start_time": "2024-06-18T20:41:31.166Z"
   },
   {
    "duration": 5,
    "start_time": "2024-06-18T20:41:31.215Z"
   },
   {
    "duration": 5,
    "start_time": "2024-06-18T20:41:31.223Z"
   },
   {
    "duration": 195,
    "start_time": "2024-06-18T20:41:31.233Z"
   },
   {
    "duration": 8,
    "start_time": "2024-06-18T20:41:31.507Z"
   },
   {
    "duration": 6,
    "start_time": "2024-06-18T20:41:31.519Z"
   },
   {
    "duration": 81,
    "start_time": "2024-06-18T20:41:31.528Z"
   },
   {
    "duration": 19,
    "start_time": "2024-06-18T20:41:31.612Z"
   },
   {
    "duration": 5,
    "start_time": "2024-06-18T21:00:11.932Z"
   },
   {
    "duration": 5,
    "start_time": "2024-06-18T21:02:51.657Z"
   },
   {
    "duration": 1289,
    "start_time": "2024-06-18T21:03:33.556Z"
   },
   {
    "duration": 7,
    "start_time": "2024-06-18T21:03:46.781Z"
   },
   {
    "duration": 9,
    "start_time": "2024-06-18T21:08:27.328Z"
   },
   {
    "duration": 9,
    "start_time": "2024-06-18T21:28:32.325Z"
   },
   {
    "duration": 4,
    "start_time": "2024-06-18T21:31:35.597Z"
   },
   {
    "duration": 9,
    "start_time": "2024-06-18T21:31:36.029Z"
   },
   {
    "duration": 8,
    "start_time": "2024-06-18T21:33:55.885Z"
   },
   {
    "duration": 5,
    "start_time": "2024-06-18T21:42:36.925Z"
   },
   {
    "duration": 17,
    "start_time": "2024-06-18T21:42:37.533Z"
   },
   {
    "duration": 6,
    "start_time": "2024-06-18T21:47:01.602Z"
   },
   {
    "duration": 20,
    "start_time": "2024-06-18T21:47:24.225Z"
   },
   {
    "duration": 5,
    "start_time": "2024-06-18T21:47:25.688Z"
   },
   {
    "duration": 5,
    "start_time": "2024-06-18T21:48:06.936Z"
   },
   {
    "duration": 5,
    "start_time": "2024-06-18T21:48:17.276Z"
   },
   {
    "duration": 36,
    "start_time": "2024-06-18T22:09:01.146Z"
   },
   {
    "duration": 1179,
    "start_time": "2024-06-18T22:09:14.470Z"
   },
   {
    "duration": 395,
    "start_time": "2024-06-18T22:09:15.652Z"
   },
   {
    "duration": 113,
    "start_time": "2024-06-18T22:09:16.050Z"
   },
   {
    "duration": 24,
    "start_time": "2024-06-18T22:09:16.168Z"
   },
   {
    "duration": 5,
    "start_time": "2024-06-18T22:09:16.206Z"
   },
   {
    "duration": 6,
    "start_time": "2024-06-18T22:09:16.214Z"
   },
   {
    "duration": 206,
    "start_time": "2024-06-18T22:09:16.223Z"
   },
   {
    "duration": 75,
    "start_time": "2024-06-18T22:09:16.432Z"
   },
   {
    "duration": 6,
    "start_time": "2024-06-18T22:09:16.511Z"
   },
   {
    "duration": 84,
    "start_time": "2024-06-18T22:09:16.522Z"
   },
   {
    "duration": 5,
    "start_time": "2024-06-18T22:09:16.609Z"
   },
   {
    "duration": 18,
    "start_time": "2024-06-18T22:09:16.617Z"
   },
   {
    "duration": 5,
    "start_time": "2024-06-18T22:09:16.638Z"
   },
   {
    "duration": 463,
    "start_time": "2024-06-18T22:09:16.646Z"
   },
   {
    "duration": 51,
    "start_time": "2024-06-18T22:09:45.074Z"
   },
   {
    "duration": 56,
    "start_time": "2024-06-18T22:10:16.127Z"
   },
   {
    "duration": 1441,
    "start_time": "2024-06-18T22:10:50.768Z"
   },
   {
    "duration": 1403,
    "start_time": "2024-06-18T22:10:54.815Z"
   },
   {
    "duration": 1370,
    "start_time": "2024-06-18T22:13:45.540Z"
   },
   {
    "duration": 1377,
    "start_time": "2024-06-18T22:13:55.416Z"
   },
   {
    "duration": 1388,
    "start_time": "2024-06-18T22:15:26.352Z"
   },
   {
    "duration": 1492,
    "start_time": "2024-06-18T22:15:40.139Z"
   },
   {
    "duration": 1178,
    "start_time": "2024-06-19T01:12:05.784Z"
   },
   {
    "duration": 496,
    "start_time": "2024-06-19T01:12:06.965Z"
   },
   {
    "duration": 104,
    "start_time": "2024-06-19T01:12:07.463Z"
   },
   {
    "duration": 27,
    "start_time": "2024-06-19T01:12:07.571Z"
   },
   {
    "duration": 4,
    "start_time": "2024-06-19T01:12:07.624Z"
   },
   {
    "duration": 5,
    "start_time": "2024-06-19T01:12:07.632Z"
   },
   {
    "duration": 197,
    "start_time": "2024-06-19T01:12:07.640Z"
   },
   {
    "duration": 83,
    "start_time": "2024-06-19T01:12:07.840Z"
   },
   {
    "duration": 4,
    "start_time": "2024-06-19T01:12:07.926Z"
   },
   {
    "duration": 10,
    "start_time": "2024-06-19T01:12:07.933Z"
   },
   {
    "duration": 76,
    "start_time": "2024-06-19T01:12:07.947Z"
   },
   {
    "duration": 19,
    "start_time": "2024-06-19T01:12:08.026Z"
   },
   {
    "duration": 5,
    "start_time": "2024-06-19T01:12:08.048Z"
   },
   {
    "duration": 1425,
    "start_time": "2024-06-19T01:12:08.058Z"
   },
   {
    "duration": 5,
    "start_time": "2024-06-19T01:31:28.173Z"
   },
   {
    "duration": 422,
    "start_time": "2024-06-19T01:36:03.333Z"
   },
   {
    "duration": 19,
    "start_time": "2024-06-19T01:36:14.600Z"
   },
   {
    "duration": 19,
    "start_time": "2024-06-19T01:41:38.733Z"
   },
   {
    "duration": 78,
    "start_time": "2024-06-19T01:48:25.502Z"
   },
   {
    "duration": 73,
    "start_time": "2024-06-19T01:49:13.660Z"
   },
   {
    "duration": 1192,
    "start_time": "2024-06-19T01:49:20.093Z"
   },
   {
    "duration": 368,
    "start_time": "2024-06-19T01:49:21.288Z"
   },
   {
    "duration": 99,
    "start_time": "2024-06-19T01:49:21.659Z"
   },
   {
    "duration": 24,
    "start_time": "2024-06-19T01:49:21.762Z"
   },
   {
    "duration": 5,
    "start_time": "2024-06-19T01:49:21.789Z"
   },
   {
    "duration": 31,
    "start_time": "2024-06-19T01:49:21.796Z"
   },
   {
    "duration": 204,
    "start_time": "2024-06-19T01:49:21.830Z"
   },
   {
    "duration": 8,
    "start_time": "2024-06-19T01:49:22.037Z"
   },
   {
    "duration": 4,
    "start_time": "2024-06-19T01:49:22.125Z"
   },
   {
    "duration": 11,
    "start_time": "2024-06-19T01:49:22.135Z"
   },
   {
    "duration": 21,
    "start_time": "2024-06-19T01:49:22.224Z"
   },
   {
    "duration": 5,
    "start_time": "2024-06-19T01:49:22.249Z"
   },
   {
    "duration": 487,
    "start_time": "2024-06-19T01:49:22.258Z"
   },
   {
    "duration": 1485,
    "start_time": "2024-06-19T01:49:48.493Z"
   },
   {
    "duration": 1396,
    "start_time": "2024-06-19T01:50:37.978Z"
   },
   {
    "duration": 1354,
    "start_time": "2024-06-19T01:50:51.474Z"
   },
   {
    "duration": 1407,
    "start_time": "2024-06-19T01:54:07.798Z"
   },
   {
    "duration": 1437,
    "start_time": "2024-06-19T02:04:37.002Z"
   },
   {
    "duration": 1511,
    "start_time": "2024-06-19T02:12:40.353Z"
   },
   {
    "duration": 1524,
    "start_time": "2024-06-19T02:12:49.875Z"
   },
   {
    "duration": 81,
    "start_time": "2024-06-19T02:13:32.307Z"
   },
   {
    "duration": 67,
    "start_time": "2024-06-19T02:16:52.004Z"
   },
   {
    "duration": 34,
    "start_time": "2024-06-19T02:31:34.559Z"
   },
   {
    "duration": 45,
    "start_time": "2024-06-19T02:31:45.571Z"
   },
   {
    "duration": 29,
    "start_time": "2024-06-19T02:32:10.568Z"
   },
   {
    "duration": 29,
    "start_time": "2024-06-19T02:32:25.582Z"
   },
   {
    "duration": 1281,
    "start_time": "2024-06-19T02:32:47.338Z"
   },
   {
    "duration": 418,
    "start_time": "2024-06-19T02:32:48.622Z"
   },
   {
    "duration": 106,
    "start_time": "2024-06-19T02:32:49.043Z"
   },
   {
    "duration": 33,
    "start_time": "2024-06-19T02:32:49.154Z"
   },
   {
    "duration": 83,
    "start_time": "2024-06-19T02:32:49.195Z"
   },
   {
    "duration": 8,
    "start_time": "2024-06-19T02:32:49.282Z"
   },
   {
    "duration": 224,
    "start_time": "2024-06-19T02:32:49.298Z"
   },
   {
    "duration": 25,
    "start_time": "2024-06-19T02:32:49.526Z"
   },
   {
    "duration": 73,
    "start_time": "2024-06-19T02:32:49.554Z"
   },
   {
    "duration": 10,
    "start_time": "2024-06-19T02:32:49.633Z"
   },
   {
    "duration": 28,
    "start_time": "2024-06-19T02:32:49.647Z"
   },
   {
    "duration": 6,
    "start_time": "2024-06-19T02:32:49.679Z"
   },
   {
    "duration": 1488,
    "start_time": "2024-06-19T02:32:49.689Z"
   },
   {
    "duration": 7,
    "start_time": "2024-06-19T02:32:51.181Z"
   },
   {
    "duration": 4,
    "start_time": "2024-06-19T02:47:34.474Z"
   },
   {
    "duration": 5,
    "start_time": "2024-06-19T02:50:31.288Z"
   },
   {
    "duration": 5,
    "start_time": "2024-06-19T02:57:26.672Z"
   },
   {
    "duration": 9,
    "start_time": "2024-06-19T03:00:49.699Z"
   },
   {
    "duration": 3,
    "start_time": "2024-06-19T03:02:52.813Z"
   },
   {
    "duration": 421,
    "start_time": "2024-06-19T03:03:41.763Z"
   },
   {
    "duration": 17,
    "start_time": "2024-06-19T03:03:50.374Z"
   },
   {
    "duration": 16,
    "start_time": "2024-06-19T03:05:59.903Z"
   },
   {
    "duration": 7,
    "start_time": "2024-06-19T03:07:25.096Z"
   },
   {
    "duration": 19,
    "start_time": "2024-06-19T03:09:51.969Z"
   },
   {
    "duration": 4,
    "start_time": "2024-06-19T03:18:18.357Z"
   },
   {
    "duration": 1406,
    "start_time": "2024-06-19T03:20:17.180Z"
   },
   {
    "duration": 1378,
    "start_time": "2024-06-19T03:28:41.620Z"
   },
   {
    "duration": 1404,
    "start_time": "2024-06-19T03:29:00.406Z"
   },
   {
    "duration": 5,
    "start_time": "2024-06-19T03:30:15.893Z"
   },
   {
    "duration": 1463,
    "start_time": "2024-06-19T03:30:39.430Z"
   },
   {
    "duration": 1453,
    "start_time": "2024-06-19T03:32:27.704Z"
   },
   {
    "duration": 15,
    "start_time": "2024-06-19T03:33:45.722Z"
   },
   {
    "duration": 1239,
    "start_time": "2024-06-19T03:34:14.257Z"
   },
   {
    "duration": 385,
    "start_time": "2024-06-19T03:34:15.504Z"
   },
   {
    "duration": 79,
    "start_time": "2024-06-19T03:34:15.891Z"
   },
   {
    "duration": 24,
    "start_time": "2024-06-19T03:34:15.975Z"
   },
   {
    "duration": 80,
    "start_time": "2024-06-19T03:34:16.001Z"
   },
   {
    "duration": 6,
    "start_time": "2024-06-19T03:34:16.084Z"
   },
   {
    "duration": 143,
    "start_time": "2024-06-19T03:34:16.094Z"
   },
   {
    "duration": 89,
    "start_time": "2024-06-19T03:34:16.240Z"
   },
   {
    "duration": 8,
    "start_time": "2024-06-19T03:34:16.336Z"
   },
   {
    "duration": 7,
    "start_time": "2024-06-19T03:34:16.426Z"
   },
   {
    "duration": 17,
    "start_time": "2024-06-19T03:34:16.435Z"
   },
   {
    "duration": 6,
    "start_time": "2024-06-19T03:34:16.454Z"
   },
   {
    "duration": 20,
    "start_time": "2024-06-19T03:34:16.463Z"
   },
   {
    "duration": 5,
    "start_time": "2024-06-19T03:34:16.525Z"
   },
   {
    "duration": 1426,
    "start_time": "2024-06-19T03:34:16.533Z"
   },
   {
    "duration": 16,
    "start_time": "2024-06-19T03:34:17.962Z"
   },
   {
    "duration": 1380,
    "start_time": "2024-06-19T03:34:17.982Z"
   },
   {
    "duration": 1432,
    "start_time": "2024-06-19T03:34:19.364Z"
   },
   {
    "duration": 1379,
    "start_time": "2024-06-19T03:34:20.799Z"
   },
   {
    "duration": 5,
    "start_time": "2024-06-19T03:34:22.181Z"
   },
   {
    "duration": 6,
    "start_time": "2024-06-19T03:35:36.758Z"
   },
   {
    "duration": 1384,
    "start_time": "2024-06-19T03:35:39.079Z"
   },
   {
    "duration": 6,
    "start_time": "2024-06-19T03:40:39.167Z"
   },
   {
    "duration": 7,
    "start_time": "2024-06-19T03:40:46.252Z"
   },
   {
    "duration": 5,
    "start_time": "2024-06-19T03:43:20.055Z"
   },
   {
    "duration": 7,
    "start_time": "2024-06-19T04:01:55.941Z"
   },
   {
    "duration": 1373,
    "start_time": "2024-06-19T04:01:58.352Z"
   },
   {
    "duration": 33,
    "start_time": "2024-06-19T04:23:02.119Z"
   },
   {
    "duration": 29,
    "start_time": "2024-06-19T04:24:05.811Z"
   },
   {
    "duration": 34,
    "start_time": "2024-06-19T04:24:19.041Z"
   },
   {
    "duration": 1220,
    "start_time": "2024-06-19T04:24:52.376Z"
   },
   {
    "duration": 2480,
    "start_time": "2024-06-19T04:25:29.447Z"
   },
   {
    "duration": 1170,
    "start_time": "2024-06-19T04:26:02.581Z"
   },
   {
    "duration": 404,
    "start_time": "2024-06-19T04:26:03.755Z"
   },
   {
    "duration": 90,
    "start_time": "2024-06-19T04:26:04.162Z"
   },
   {
    "duration": 25,
    "start_time": "2024-06-19T04:26:04.257Z"
   },
   {
    "duration": 77,
    "start_time": "2024-06-19T04:26:04.285Z"
   },
   {
    "duration": 5,
    "start_time": "2024-06-19T04:26:04.364Z"
   },
   {
    "duration": 81,
    "start_time": "2024-06-19T04:26:04.372Z"
   },
   {
    "duration": 79,
    "start_time": "2024-06-19T04:26:04.456Z"
   },
   {
    "duration": 5,
    "start_time": "2024-06-19T04:26:04.538Z"
   },
   {
    "duration": 80,
    "start_time": "2024-06-19T04:26:04.548Z"
   },
   {
    "duration": 18,
    "start_time": "2024-06-19T04:26:04.631Z"
   },
   {
    "duration": 7,
    "start_time": "2024-06-19T04:26:04.651Z"
   },
   {
    "duration": 21,
    "start_time": "2024-06-19T04:26:04.660Z"
   },
   {
    "duration": 6,
    "start_time": "2024-06-19T04:26:04.724Z"
   },
   {
    "duration": 7,
    "start_time": "2024-06-19T04:26:04.733Z"
   },
   {
    "duration": 1452,
    "start_time": "2024-06-19T04:26:04.744Z"
   },
   {
    "duration": 1168,
    "start_time": "2024-06-19T04:31:21.234Z"
   },
   {
    "duration": 374,
    "start_time": "2024-06-19T04:31:22.405Z"
   },
   {
    "duration": 88,
    "start_time": "2024-06-19T04:31:22.783Z"
   },
   {
    "duration": 25,
    "start_time": "2024-06-19T04:31:22.875Z"
   },
   {
    "duration": 53,
    "start_time": "2024-06-19T04:31:22.924Z"
   },
   {
    "duration": 5,
    "start_time": "2024-06-19T04:31:22.980Z"
   },
   {
    "duration": 149,
    "start_time": "2024-06-19T04:31:22.988Z"
   },
   {
    "duration": 90,
    "start_time": "2024-06-19T04:31:23.140Z"
   },
   {
    "duration": 9,
    "start_time": "2024-06-19T04:31:23.233Z"
   },
   {
    "duration": 75,
    "start_time": "2024-06-19T04:31:23.249Z"
   },
   {
    "duration": 17,
    "start_time": "2024-06-19T04:31:23.327Z"
   },
   {
    "duration": 6,
    "start_time": "2024-06-19T04:31:23.347Z"
   },
   {
    "duration": 19,
    "start_time": "2024-06-19T04:31:23.356Z"
   },
   {
    "duration": 44,
    "start_time": "2024-06-19T04:31:23.379Z"
   },
   {
    "duration": 8,
    "start_time": "2024-06-19T04:31:23.426Z"
   },
   {
    "duration": 1403,
    "start_time": "2024-06-19T04:31:23.438Z"
   },
   {
    "duration": 1160,
    "start_time": "2024-06-19T04:38:56.866Z"
   },
   {
    "duration": 380,
    "start_time": "2024-06-19T04:38:58.030Z"
   },
   {
    "duration": 76,
    "start_time": "2024-06-19T04:38:58.413Z"
   },
   {
    "duration": 43,
    "start_time": "2024-06-19T04:38:58.493Z"
   },
   {
    "duration": 52,
    "start_time": "2024-06-19T04:38:58.540Z"
   },
   {
    "duration": 5,
    "start_time": "2024-06-19T04:38:58.595Z"
   },
   {
    "duration": 125,
    "start_time": "2024-06-19T04:38:58.603Z"
   },
   {
    "duration": 12,
    "start_time": "2024-06-19T04:38:58.732Z"
   },
   {
    "duration": 5,
    "start_time": "2024-06-19T04:38:58.824Z"
   },
   {
    "duration": 7,
    "start_time": "2024-06-19T04:38:58.834Z"
   },
   {
    "duration": 91,
    "start_time": "2024-06-19T04:38:58.844Z"
   },
   {
    "duration": 7,
    "start_time": "2024-06-19T04:38:58.937Z"
   },
   {
    "duration": 21,
    "start_time": "2024-06-19T04:38:58.946Z"
   },
   {
    "duration": 5,
    "start_time": "2024-06-19T04:38:58.970Z"
   },
   {
    "duration": 44,
    "start_time": "2024-06-19T04:38:58.979Z"
   },
   {
    "duration": 1417,
    "start_time": "2024-06-19T04:38:59.025Z"
   },
   {
    "duration": 68,
    "start_time": "2024-06-19T04:40:22.471Z"
   },
   {
    "duration": 25,
    "start_time": "2024-06-19T04:40:36.728Z"
   },
   {
    "duration": 1388,
    "start_time": "2024-06-19T04:41:57.284Z"
   },
   {
    "duration": 1347,
    "start_time": "2024-06-19T04:42:17.961Z"
   },
   {
    "duration": 1378,
    "start_time": "2024-06-19T04:42:50.859Z"
   },
   {
    "duration": 1186,
    "start_time": "2024-06-19T04:44:34.346Z"
   },
   {
    "duration": 385,
    "start_time": "2024-06-19T04:44:35.536Z"
   },
   {
    "duration": 75,
    "start_time": "2024-06-19T04:44:35.924Z"
   },
   {
    "duration": 24,
    "start_time": "2024-06-19T04:44:36.022Z"
   },
   {
    "duration": 72,
    "start_time": "2024-06-19T04:44:36.050Z"
   },
   {
    "duration": 5,
    "start_time": "2024-06-19T04:44:36.125Z"
   },
   {
    "duration": 105,
    "start_time": "2024-06-19T04:44:36.134Z"
   },
   {
    "duration": 90,
    "start_time": "2024-06-19T04:44:36.242Z"
   },
   {
    "duration": 6,
    "start_time": "2024-06-19T04:44:36.334Z"
   },
   {
    "duration": 83,
    "start_time": "2024-06-19T04:44:36.342Z"
   },
   {
    "duration": 17,
    "start_time": "2024-06-19T04:44:36.428Z"
   },
   {
    "duration": 6,
    "start_time": "2024-06-19T04:44:36.447Z"
   },
   {
    "duration": 19,
    "start_time": "2024-06-19T04:44:36.456Z"
   },
   {
    "duration": 41,
    "start_time": "2024-06-19T04:44:36.482Z"
   },
   {
    "duration": 8,
    "start_time": "2024-06-19T04:44:36.525Z"
   },
   {
    "duration": 1426,
    "start_time": "2024-06-19T04:44:36.536Z"
   },
   {
    "duration": 1185,
    "start_time": "2024-06-20T02:46:20.420Z"
   },
   {
    "duration": 369,
    "start_time": "2024-06-20T02:46:21.609Z"
   },
   {
    "duration": 86,
    "start_time": "2024-06-20T02:46:21.980Z"
   },
   {
    "duration": 48,
    "start_time": "2024-06-20T02:46:22.070Z"
   },
   {
    "duration": 51,
    "start_time": "2024-06-20T02:46:23.092Z"
   },
   {
    "duration": 5,
    "start_time": "2024-06-20T02:46:23.877Z"
   },
   {
    "duration": 68,
    "start_time": "2024-06-20T02:46:24.346Z"
   },
   {
    "duration": 13,
    "start_time": "2024-06-20T02:46:25.519Z"
   },
   {
    "duration": 5,
    "start_time": "2024-06-20T02:46:27.475Z"
   },
   {
    "duration": 7,
    "start_time": "2024-06-20T02:46:28.485Z"
   },
   {
    "duration": 18,
    "start_time": "2024-06-20T02:46:29.750Z"
   },
   {
    "duration": 6,
    "start_time": "2024-06-20T02:46:30.974Z"
   },
   {
    "duration": 21,
    "start_time": "2024-06-20T02:46:33.584Z"
   },
   {
    "duration": 12,
    "start_time": "2024-06-20T02:46:40.776Z"
   },
   {
    "duration": 5,
    "start_time": "2024-06-20T02:48:34.379Z"
   },
   {
    "duration": 27,
    "start_time": "2024-06-20T02:48:35.090Z"
   },
   {
    "duration": 5,
    "start_time": "2024-06-20T02:49:26.677Z"
   },
   {
    "duration": 12,
    "start_time": "2024-06-20T02:49:27.431Z"
   },
   {
    "duration": 5,
    "start_time": "2024-06-20T02:49:32.941Z"
   },
   {
    "duration": 12,
    "start_time": "2024-06-20T02:49:34.446Z"
   },
   {
    "duration": 5,
    "start_time": "2024-06-20T02:50:31.440Z"
   },
   {
    "duration": 7,
    "start_time": "2024-06-20T02:50:33.957Z"
   },
   {
    "duration": 840,
    "start_time": "2024-06-20T02:56:40.564Z"
   },
   {
    "duration": 6,
    "start_time": "2024-06-20T02:56:54.422Z"
   },
   {
    "duration": 1169,
    "start_time": "2024-06-23T15:54:23.090Z"
   },
   {
    "duration": 480,
    "start_time": "2024-06-23T15:54:24.263Z"
   },
   {
    "duration": 86,
    "start_time": "2024-06-23T15:54:24.747Z"
   },
   {
    "duration": 26,
    "start_time": "2024-06-23T15:54:24.835Z"
   },
   {
    "duration": 80,
    "start_time": "2024-06-23T15:54:24.867Z"
   },
   {
    "duration": 5,
    "start_time": "2024-06-23T15:54:24.951Z"
   },
   {
    "duration": 84,
    "start_time": "2024-06-23T15:54:24.960Z"
   },
   {
    "duration": 14,
    "start_time": "2024-06-23T15:54:25.124Z"
   },
   {
    "duration": 6,
    "start_time": "2024-06-23T15:54:25.141Z"
   },
   {
    "duration": 8,
    "start_time": "2024-06-23T15:54:25.225Z"
   },
   {
    "duration": 16,
    "start_time": "2024-06-23T15:54:25.236Z"
   },
   {
    "duration": 5,
    "start_time": "2024-06-23T15:54:25.255Z"
   },
   {
    "duration": 473,
    "start_time": "2024-06-23T15:54:25.264Z"
   },
   {
    "duration": 0,
    "start_time": "2024-06-23T15:54:25.740Z"
   },
   {
    "duration": 0,
    "start_time": "2024-06-23T15:54:25.743Z"
   },
   {
    "duration": 0,
    "start_time": "2024-06-23T15:54:25.747Z"
   },
   {
    "duration": 32,
    "start_time": "2024-06-23T15:54:42.053Z"
   },
   {
    "duration": 19,
    "start_time": "2024-06-23T15:55:17.814Z"
   },
   {
    "duration": 7,
    "start_time": "2024-06-23T15:57:29.864Z"
   },
   {
    "duration": 1125,
    "start_time": "2024-06-23T15:58:45.178Z"
   },
   {
    "duration": 387,
    "start_time": "2024-06-23T15:58:46.307Z"
   },
   {
    "duration": 78,
    "start_time": "2024-06-23T15:58:46.697Z"
   },
   {
    "duration": 45,
    "start_time": "2024-06-23T15:58:46.778Z"
   },
   {
    "duration": 55,
    "start_time": "2024-06-23T15:58:46.827Z"
   },
   {
    "duration": 5,
    "start_time": "2024-06-23T15:58:46.885Z"
   },
   {
    "duration": 139,
    "start_time": "2024-06-23T15:58:46.893Z"
   },
   {
    "duration": 90,
    "start_time": "2024-06-23T15:58:47.035Z"
   },
   {
    "duration": 6,
    "start_time": "2024-06-23T15:58:47.128Z"
   },
   {
    "duration": 87,
    "start_time": "2024-06-23T15:58:47.137Z"
   },
   {
    "duration": 18,
    "start_time": "2024-06-23T15:58:47.228Z"
   },
   {
    "duration": 9,
    "start_time": "2024-06-23T15:58:47.250Z"
   },
   {
    "duration": 21,
    "start_time": "2024-06-23T15:58:47.263Z"
   },
   {
    "duration": 5,
    "start_time": "2024-06-23T15:58:47.322Z"
   },
   {
    "duration": 9,
    "start_time": "2024-06-23T15:58:47.331Z"
   },
   {
    "duration": 482,
    "start_time": "2024-06-23T15:58:47.343Z"
   },
   {
    "duration": 6,
    "start_time": "2024-06-23T16:03:42.120Z"
   },
   {
    "duration": 2434,
    "start_time": "2024-06-23T16:04:07.148Z"
   },
   {
    "duration": 7,
    "start_time": "2024-06-23T17:19:31.071Z"
   },
   {
    "duration": 1196,
    "start_time": "2024-06-23T17:32:29.496Z"
   },
   {
    "duration": 379,
    "start_time": "2024-06-23T17:32:30.697Z"
   },
   {
    "duration": 96,
    "start_time": "2024-06-23T17:32:31.079Z"
   },
   {
    "duration": 45,
    "start_time": "2024-06-23T17:32:31.178Z"
   },
   {
    "duration": 53,
    "start_time": "2024-06-23T17:32:31.227Z"
   },
   {
    "duration": 5,
    "start_time": "2024-06-23T17:32:31.283Z"
   },
   {
    "duration": 135,
    "start_time": "2024-06-23T17:32:31.292Z"
   },
   {
    "duration": 14,
    "start_time": "2024-06-23T17:32:31.430Z"
   },
   {
    "duration": 80,
    "start_time": "2024-06-23T17:32:31.447Z"
   },
   {
    "duration": 8,
    "start_time": "2024-06-23T17:32:31.530Z"
   },
   {
    "duration": 94,
    "start_time": "2024-06-23T17:32:31.541Z"
   },
   {
    "duration": 9,
    "start_time": "2024-06-23T17:32:31.638Z"
   },
   {
    "duration": 20,
    "start_time": "2024-06-23T17:32:31.650Z"
   },
   {
    "duration": 5,
    "start_time": "2024-06-23T17:32:31.675Z"
   },
   {
    "duration": 41,
    "start_time": "2024-06-23T17:32:31.683Z"
   },
   {
    "duration": 2473,
    "start_time": "2024-06-23T17:32:31.728Z"
   },
   {
    "duration": 1169,
    "start_time": "2024-06-23T17:34:21.964Z"
   },
   {
    "duration": 386,
    "start_time": "2024-06-23T17:34:23.137Z"
   },
   {
    "duration": 74,
    "start_time": "2024-06-23T17:34:23.526Z"
   },
   {
    "duration": 24,
    "start_time": "2024-06-23T17:34:23.625Z"
   },
   {
    "duration": 74,
    "start_time": "2024-06-23T17:34:23.652Z"
   },
   {
    "duration": 5,
    "start_time": "2024-06-23T17:34:23.729Z"
   },
   {
    "duration": 97,
    "start_time": "2024-06-23T17:34:23.738Z"
   },
   {
    "duration": 12,
    "start_time": "2024-06-23T17:34:23.839Z"
   },
   {
    "duration": 6,
    "start_time": "2024-06-23T17:34:23.923Z"
   },
   {
    "duration": 7,
    "start_time": "2024-06-23T17:34:23.934Z"
   },
   {
    "duration": 89,
    "start_time": "2024-06-23T17:34:23.944Z"
   },
   {
    "duration": 5,
    "start_time": "2024-06-23T17:34:24.036Z"
   },
   {
    "duration": 19,
    "start_time": "2024-06-23T17:34:24.045Z"
   },
   {
    "duration": 5,
    "start_time": "2024-06-23T17:34:24.067Z"
   },
   {
    "duration": 49,
    "start_time": "2024-06-23T17:34:24.076Z"
   },
   {
    "duration": 2410,
    "start_time": "2024-06-23T17:34:24.128Z"
   },
   {
    "duration": 1179,
    "start_time": "2024-07-26T02:24:23.020Z"
   },
   {
    "duration": 529,
    "start_time": "2024-07-26T02:24:24.204Z"
   },
   {
    "duration": 97,
    "start_time": "2024-07-26T02:24:24.737Z"
   },
   {
    "duration": 24,
    "start_time": "2024-07-26T02:24:24.837Z"
   },
   {
    "duration": 76,
    "start_time": "2024-07-26T02:24:24.865Z"
   },
   {
    "duration": 5,
    "start_time": "2024-07-26T02:24:24.944Z"
   },
   {
    "duration": 157,
    "start_time": "2024-07-26T02:24:24.952Z"
   },
   {
    "duration": 18,
    "start_time": "2024-07-26T02:24:25.112Z"
   },
   {
    "duration": 76,
    "start_time": "2024-07-26T02:24:25.133Z"
   },
   {
    "duration": 8,
    "start_time": "2024-07-26T02:24:25.215Z"
   },
   {
    "duration": 17,
    "start_time": "2024-07-26T02:24:25.226Z"
   },
   {
    "duration": 6,
    "start_time": "2024-07-26T02:24:25.246Z"
   },
   {
    "duration": 57,
    "start_time": "2024-07-26T02:24:25.255Z"
   },
   {
    "duration": 5,
    "start_time": "2024-07-26T02:24:25.317Z"
   },
   {
    "duration": 7,
    "start_time": "2024-07-26T02:24:25.327Z"
   },
   {
    "duration": 2566,
    "start_time": "2024-07-26T02:24:25.338Z"
   }
  ],
  "kernelspec": {
   "display_name": "Python 3 (ipykernel)",
   "language": "python",
   "name": "python3"
  },
  "language_info": {
   "codemirror_mode": {
    "name": "ipython",
    "version": 3
   },
   "file_extension": ".py",
   "mimetype": "text/x-python",
   "name": "python",
   "nbconvert_exporter": "python",
   "pygments_lexer": "ipython3",
   "version": "3.9.19"
  },
  "toc": {
   "base_numbering": 1,
   "nav_menu": {},
   "number_sections": true,
   "sideBar": true,
   "skip_h1_title": true,
   "title_cell": "Table of Contents",
   "title_sidebar": "Contents",
   "toc_cell": false,
   "toc_position": {},
   "toc_section_display": true,
   "toc_window_display": false
  }
 },
 "nbformat": 4,
 "nbformat_minor": 2
}
